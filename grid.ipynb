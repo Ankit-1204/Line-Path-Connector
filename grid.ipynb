{
 "cells": [
  {
   "cell_type": "markdown",
   "metadata": {},
   "source": [
    "## Grid.ipynb, Ankit Upadhyay"
   ]
  },
  {
   "cell_type": "code",
   "execution_count": 1,
   "metadata": {},
   "outputs": [],
   "source": [
    "import numpy as np \n",
    "import cv2\n",
    "import random"
   ]
  },
  {
   "cell_type": "code",
   "execution_count": 2,
   "metadata": {},
   "outputs": [],
   "source": [
    "img_path=\"shape.jpeg\""
   ]
  },
  {
   "cell_type": "code",
   "execution_count": 3,
   "metadata": {},
   "outputs": [],
   "source": [
    "image =cv2.imread(img_path)"
   ]
  },
  {
   "cell_type": "code",
   "execution_count": 4,
   "metadata": {},
   "outputs": [],
   "source": [
    "image = cv2.GaussianBlur(image, (5, 5), 0)"
   ]
  },
  {
   "cell_type": "code",
   "execution_count": 5,
   "metadata": {},
   "outputs": [],
   "source": [
    "gray_image = cv2.cvtColor(image, cv2.COLOR_BGR2GRAY)"
   ]
  },
  {
   "cell_type": "code",
   "execution_count": 6,
   "metadata": {},
   "outputs": [],
   "source": [
    "edges = cv2.Canny(gray_image, 50, 150, apertureSize=3)"
   ]
  },
  {
   "cell_type": "code",
   "execution_count": 7,
   "metadata": {},
   "outputs": [],
   "source": [
    "_, mask = cv2.threshold(gray_image, 50, 255, cv2.THRESH_BINARY_INV)  \n",
    "\n",
    "\n",
    "kernel = np.ones((5, 5), np.uint8)  \n",
    "morphed_edges = cv2.morphologyEx(edges, cv2.MORPH_CLOSE, kernel)"
   ]
  },
  {
   "cell_type": "code",
   "execution_count": 8,
   "metadata": {},
   "outputs": [],
   "source": [
    "lines = cv2.HoughLinesP(morphed_edges, 1, np.pi / 180, 50, minLineLength=20, maxLineGap=30)"
   ]
  },
  {
   "cell_type": "code",
   "execution_count": 9,
   "metadata": {},
   "outputs": [
    {
     "data": {
      "text/plain": [
       "17"
      ]
     },
     "execution_count": 9,
     "metadata": {},
     "output_type": "execute_result"
    }
   ],
   "source": [
    "len(lines)"
   ]
  },
  {
   "cell_type": "code",
   "execution_count": 10,
   "metadata": {},
   "outputs": [],
   "source": [
    "def classify_lines(filtered_lines):\n",
    "    vertical_lines = []\n",
    "    horizontal_lines = []\n",
    "    \n",
    "    for line in filtered_lines:\n",
    "        x1, y1, x2, y2 = line[0]\n",
    "        \n",
    "        \n",
    "        if abs(x2 - x1) < 10:  \n",
    "            vertical_lines.append(line)\n",
    "        \n",
    "        elif abs(y2 - y1) < 10:  \n",
    "            horizontal_lines.append(line)\n",
    "    \n",
    "    return vertical_lines, horizontal_lines"
   ]
  },
  {
   "cell_type": "code",
   "execution_count": 11,
   "metadata": {},
   "outputs": [],
   "source": [
    "def filter_close_lines(lines, orientation='vertical', threshold=10):\n",
    "   \n",
    "    if orientation == 'vertical':\n",
    "        \n",
    "        lines.sort(key=lambda line: line[0][0])\n",
    "    elif orientation == 'horizontal':\n",
    "        \n",
    "        lines.sort(key=lambda line: line[0][1])\n",
    "    \n",
    "    filtered_lines = []\n",
    "    \n",
    "    i = 0\n",
    "    while i < len(lines):\n",
    "        largest_line = lines[i]\n",
    "        x1, y1, x2, y2 = largest_line[0]\n",
    "        \n",
    "     \n",
    "        j = i + 1\n",
    "        while j < len(lines):\n",
    "            x1_next, y1_next, x2_next, y2_next = lines[j][0]\n",
    "            \n",
    "            if orientation == 'vertical':\n",
    "                \n",
    "                if abs(x1_next - x1) < threshold:\n",
    "                    \n",
    "                    if abs(y2 - y1) < abs(y2_next - y1_next):  \n",
    "                        largest_line = lines[j]\n",
    "                else:\n",
    "                    break\n",
    "            elif orientation == 'horizontal':\n",
    "             \n",
    "                if abs(y1_next - y1) < threshold:\n",
    "                    \n",
    "                    if abs(x2 - x1) < abs(x2_next - x1_next): \n",
    "                        largest_line = lines[j]\n",
    "                else:\n",
    "                    break\n",
    "            \n",
    "            j += 1\n",
    "        \n",
    "        \n",
    "        filtered_lines.append(largest_line)\n",
    "        i = j  \n",
    "    \n",
    "    return filtered_lines"
   ]
  },
  {
   "cell_type": "code",
   "execution_count": 12,
   "metadata": {},
   "outputs": [],
   "source": [
    "vertical_lines, horizontal_lines = classify_lines(lines)"
   ]
  },
  {
   "cell_type": "code",
   "execution_count": 18,
   "metadata": {},
   "outputs": [],
   "source": [
    "vertical_lines\n",
    "blank_image = np.ones_like(image) * 255  \n",
    "for line in vertical_lines:\n",
    "    x1, y1, x2, y2 = line[0]\n",
    "    cv2.line(blank_image, (x1, y1), (x2, y2), (0, 0, 255), 2)  \n",
    "cv2.imshow('Filtered Lines', blank_image)\n",
    "cv2.waitKey(0)\n",
    "cv2.destroyAllWindows()"
   ]
  },
  {
   "cell_type": "code",
   "execution_count": 15,
   "metadata": {},
   "outputs": [],
   "source": [
    "blank_image = np.ones_like(image) * 255  \n",
    "for line in horizontal_lines:\n",
    "    x1, y1, x2, y2 = line[0]\n",
    "    cv2.line(blank_image, (x1, y1), (x2, y2), (0, 0, 255), 2) \n",
    "cv2.imshow('Filtered Lines', blank_image)\n",
    "cv2.waitKey(0)\n",
    "cv2.destroyAllWindows()"
   ]
  },
  {
   "cell_type": "code",
   "execution_count": 16,
   "metadata": {},
   "outputs": [],
   "source": [
    "filtered_vertical_lines = filter_close_lines(vertical_lines, orientation='vertical', threshold=20)\n",
    "filtered_horizontal_lines = filter_close_lines(horizontal_lines, orientation='horizontal', threshold=20)\n"
   ]
  },
  {
   "cell_type": "code",
   "execution_count": 17,
   "metadata": {},
   "outputs": [],
   "source": [
    "final_lines = filtered_vertical_lines + filtered_horizontal_lines\n",
    "\n",
    "blank_image = np.ones_like(image) * 255  \n",
    "for line in final_lines:\n",
    "    x1, y1, x2, y2 = line[0]\n",
    "    cv2.line(blank_image, (x1, y1), (x2, y2), (0, 0, 255), 2)  \n",
    "\n",
    "cv2.imshow('Filtered Lines', blank_image)\n",
    "cv2.waitKey(0)\n",
    "cv2.destroyAllWindows()"
   ]
  },
  {
   "cell_type": "code",
   "execution_count": 19,
   "metadata": {},
   "outputs": [
    {
     "data": {
      "text/plain": [
       "[array([[631, 364, 635, 118]], dtype=int32),\n",
       " array([[847, 301, 850, 121]], dtype=int32),\n",
       " array([[656, 114, 847, 120]], dtype=int32),\n",
       " array([[372, 354, 637, 358]], dtype=int32)]"
      ]
     },
     "execution_count": 19,
     "metadata": {},
     "output_type": "execute_result"
    }
   ],
   "source": [
    "final_lines"
   ]
  },
  {
   "cell_type": "code",
   "execution_count": 20,
   "metadata": {},
   "outputs": [],
   "source": [
    "copy_line=final_lines"
   ]
  },
  {
   "cell_type": "code",
   "execution_count": 21,
   "metadata": {},
   "outputs": [],
   "source": [
    "hsv_image = cv2.imread(img_path)\n",
    "\n",
    "\n",
    "hsv_image = cv2.cvtColor(hsv_image, cv2.COLOR_BGR2HSV)\n",
    "\n",
    "\n",
    "lower_red1 = np.array([0, 100, 100])\n",
    "upper_red1 = np.array([10, 255, 255])\n",
    "lower_red2 = np.array([160, 100, 100])\n",
    "upper_red2 = np.array([179, 255, 255])\n",
    "\n",
    "lower_green = np.array([40, 50, 50])\n",
    "upper_green = np.array([90, 255, 255])\n",
    "\n",
    "\n",
    "mask_red1 = cv2.inRange(hsv_image, lower_red1, upper_red1)\n",
    "mask_red2 = cv2.inRange(hsv_image, lower_red2, upper_red2)\n",
    "mask_red = mask_red1 + mask_red2 \n",
    "\n",
    "mask_green = cv2.inRange(hsv_image, lower_green, upper_green)\n",
    "\n",
    "\n",
    "contours_red, _ = cv2.findContours(mask_red, cv2.RETR_EXTERNAL, cv2.CHAIN_APPROX_SIMPLE)\n",
    "contours_green, _ = cv2.findContours(mask_green, cv2.RETR_EXTERNAL, cv2.CHAIN_APPROX_SIMPLE)\n"
   ]
  },
  {
   "cell_type": "code",
   "execution_count": 22,
   "metadata": {},
   "outputs": [],
   "source": [
    "\n",
    "blank_image = np.ones_like(hsv_image) * 255\n",
    "for contour in contours_red:\n",
    "    M = cv2.moments(contour)\n",
    "    if M['m00'] > 0:  \n",
    "        cx_red = int(M['m10'] / M['m00'])\n",
    "        cy_red = int(M['m01'] / M['m00'])\n",
    "     \n",
    "        cv2.circle(blank_image, (cx_red, cy_red), 5, (0, 0, 255), -1)  \n",
    "\n",
    "for contour in contours_green:\n",
    "    M = cv2.moments(contour)\n",
    "    if M['m00'] > 0: \n",
    "        cx_green = int(M['m10'] / M['m00'])\n",
    "        cy_green = int(M['m01'] / M['m00'])\n",
    "       \n",
    "        cv2.circle(blank_image, (cx_green, cy_green), 5, (0, 255, 0), -1) \n",
    "\n",
    "\n",
    "cv2.imshow('Detected Dots', blank_image)\n",
    "cv2.waitKey(0)\n",
    "cv2.destroyAllWindows()"
   ]
  },
  {
   "cell_type": "code",
   "execution_count": 23,
   "metadata": {},
   "outputs": [],
   "source": [
    "import numpy as np\n",
    "import cv2\n",
    "\n",
    "def distance(point1, point2):\n",
    "  \n",
    "    return np.sqrt((point1[0] - point2[0])**2 + (point1[1] - point2[1])**2)\n",
    "\n",
    "def find_closest_line(origin, lines):\n",
    "\n",
    "    min_dist = float('inf')\n",
    "    closest_line = None\n",
    "    new_origin = None\n",
    "    for line in lines:\n",
    "        x1, y1, x2, y2 = line[0]\n",
    "        start = (x1, y1)\n",
    "        end = (x2, y2)\n",
    "\n",
    "        dist_start = distance(origin, start)\n",
    "        dist_end = distance(origin, end)\n",
    "\n",
    "       \n",
    "        if dist_start < dist_end:\n",
    "            dist = dist_start\n",
    "            point_to_set_as_origin = end  \n",
    "            line_to_add = line  \n",
    "            line_to_remove=line\n",
    "            \n",
    "        else:\n",
    "            dist = dist_end\n",
    "            point_to_set_as_origin = start \n",
    "            line_to_add = np.array([[x2, y2, x1, y1]])  \n",
    "            line_to_remove=line\n",
    "            \n",
    "       \n",
    "        if dist < min_dist:\n",
    "            min_dist = dist\n",
    "            closest_line = line_to_add\n",
    "            new_origin = point_to_set_as_origin\n",
    "            remove_line=line_to_remove\n",
    "\n",
    "    return closest_line, new_origin,remove_line\n",
    "\n"
   ]
  },
  {
   "cell_type": "code",
   "execution_count": 24,
   "metadata": {},
   "outputs": [],
   "source": [
    "def connect_lines_from_origin(origin, lines):\n",
    "\n",
    "    ordered_lines = []\n",
    "    remaining_lines = lines.copy()\n",
    "\n",
    "\n",
    "    while remaining_lines:\n",
    " \n",
    "        closest_line, new_origin,line_to_remove = find_closest_line(origin, remaining_lines)\n",
    "\n",
    "        ordered_lines.append(closest_line)\n",
    "    \n",
    "        remaining_lines = [line for line in remaining_lines if not np.array_equal(line, line_to_remove)]\n",
    "    \n",
    "      \n",
    "        origin = new_origin\n",
    "\n",
    "    return ordered_lines\n",
    "\n"
   ]
  },
  {
   "cell_type": "code",
   "execution_count": 25,
   "metadata": {},
   "outputs": [],
   "source": [
    "red_point = [cx_red, cy_red] \n",
    "\n",
    "ordered_lines = connect_lines_from_origin(red_point, copy_line)"
   ]
  },
  {
   "cell_type": "code",
   "execution_count": 26,
   "metadata": {},
   "outputs": [
    {
     "name": "stdout",
     "output_type": "stream",
     "text": [
      "Line 1: (847, 301) -> (850, 121)\n",
      "Line 2: (847, 120) -> (656, 114)\n",
      "Line 3: (635, 118) -> (631, 364)\n",
      "Line 4: (637, 358) -> (372, 354)\n"
     ]
    }
   ],
   "source": [
    "\n",
    "\n",
    "\n",
    "blank_image = np.ones_like(image) * 255 \n",
    "for line in ordered_lines:\n",
    "    x1, y1, x2, y2 = line[0]\n",
    "    cv2.line(blank_image, (x1, y1), (x2, y2), (0, 0, 255), 2)  \n",
    "\n",
    "cv2.imshow('Ordered Lines', blank_image)\n",
    "cv2.waitKey(0)\n",
    "cv2.destroyAllWindows()\n",
    "\n",
    "for idx, line in enumerate(ordered_lines):\n",
    "    x1, y1, x2, y2 = line[0]\n",
    "    print(f\"Line {idx+1}: ({x1}, {y1}) -> ({x2}, {y2})\")"
   ]
  },
  {
   "cell_type": "code",
   "execution_count": 27,
   "metadata": {},
   "outputs": [
    {
     "name": "stdout",
     "output_type": "stream",
     "text": [
      "['U', 'L', 'D', 'L']\n"
     ]
    }
   ],
   "source": [
    "def get_directions(ordered_lines):\n",
    "\n",
    "    directions = []\n",
    "\n",
    "    \n",
    "    for i in range(len(ordered_lines)):\n",
    "       \n",
    "        x1, y1, x2, y2 = ordered_lines[i][0]\n",
    "\n",
    "        start_point = (x1, y1)  \n",
    "        next_point = (x2, y2)  \n",
    "\n",
    "     \n",
    "        dx = next_point[0] - start_point[0]\n",
    "        dy = next_point[1] - start_point[1]\n",
    "\n",
    "        \n",
    "        if abs(dx) > abs(dy):  \n",
    "            if dx > 0:\n",
    "                directions.append('R')\n",
    "            else:\n",
    "                directions.append('L')\n",
    "        else:  \n",
    "            if dy > 0:\n",
    "                directions.append('D')\n",
    "            else:\n",
    "                directions.append('U')\n",
    "\n",
    "    return directions\n",
    "\n",
    "\n",
    "directions = get_directions(ordered_lines)\n",
    "\n",
    "\n",
    "print(directions)"
   ]
  },
  {
   "cell_type": "code",
   "execution_count": null,
   "metadata": {},
   "outputs": [],
   "source": []
  }
 ],
 "metadata": {
  "language_info": {
   "name": "python"
  }
 },
 "nbformat": 4,
 "nbformat_minor": 2
}
